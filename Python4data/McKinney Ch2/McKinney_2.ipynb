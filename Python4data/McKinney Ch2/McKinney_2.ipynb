{
 "metadata": {
  "name": "McKinney_2"
 },
 "nbformat": 3,
 "nbformat_minor": 0,
 "worksheets": [
  {
   "cells": [
    {
     "cell_type": "heading",
     "level": 1,
     "metadata": {},
     "source": [
      "Python for Data Analysis Chapter 2"
     ]
    },
    {
     "cell_type": "heading",
     "level": 3,
     "metadata": {},
     "source": [
      "1.usa.gov data from bit.ly"
     ]
    },
    {
     "cell_type": "heading",
     "level": 4,
     "metadata": {},
     "source": [
      "\n",
      "In 2011, URL shortening service bit.ly partnered with the United States government\n",
      "website usa.gov to provide a feed of anonymous data gathered from users who shorten\n",
      "links ending with .gov or .mil. As of this writing, in addition to providing a live feed,\n",
      "hourly snapshots are available as downloadable text files."
     ]
    },
    {
     "cell_type": "heading",
     "level": 4,
     "metadata": {},
     "source": [
      "In the case of the hourly snapshots, each line in each file contains a common form of\n",
      "web data known as JSON, which stands for JavaScript Object Notation. For example,\n",
      "if we read just the first line of a file you may see something like"
     ]
    },
    {
     "cell_type": "code",
     "collapsed": false,
     "input": [
      "path = 'usagov_bitly_data2012-03-16-1331923249.txt'"
     ],
     "language": "python",
     "metadata": {},
     "outputs": []
    },
    {
     "cell_type": "code",
     "collapsed": false,
     "input": [
      "print path"
     ],
     "language": "python",
     "metadata": {},
     "outputs": []
    },
    {
     "cell_type": "code",
     "collapsed": false,
     "input": [
      "open(path).readline()"
     ],
     "language": "python",
     "metadata": {},
     "outputs": []
    },
    {
     "cell_type": "heading",
     "level": 4,
     "metadata": {},
     "source": [
      "Python has numerous built-in and 3rd party modules for converting a JSON string into\n",
      "a Python dictionary object. Here I\u2019ll use the json module and its loads function invoked\n",
      "on each line in the sample file I downloaded:"
     ]
    },
    {
     "cell_type": "code",
     "collapsed": false,
     "input": [
      "import json\n",
      "path = 'usagov_bitly_data2012-03-16-1331923249.txt'\n",
      "records = [json.loads(line) for line in open(path)]"
     ],
     "language": "python",
     "metadata": {},
     "outputs": []
    },
    {
     "cell_type": "heading",
     "level": 4,
     "metadata": {},
     "source": [
      "If you\u2019ve never programmed in Python before, the last expression here is called a list\n",
      "comprehension, which is a concise way of applying an operation (like json.loads) to a\n",
      "collection of strings or other objects. Conveniently, iterating over an open file handle\n",
      "gives you a sequence of its lines. The resulting object records is now a list of Python\n",
      "dicts:"
     ]
    },
    {
     "cell_type": "code",
     "collapsed": false,
     "input": [
      "records[0]"
     ],
     "language": "python",
     "metadata": {},
     "outputs": []
    },
    {
     "cell_type": "heading",
     "level": 4,
     "metadata": {},
     "source": [
      "Note that Python indices start at 0 and not 1 like some other languages (like R). It\u2019s\n",
      "now easy to access individual values within records by passing a string for the key you\n",
      "wish to access:"
     ]
    },
    {
     "cell_type": "code",
     "collapsed": false,
     "input": [
      "records[0]['tz']"
     ],
     "language": "python",
     "metadata": {},
     "outputs": []
    },
    {
     "cell_type": "heading",
     "level": 4,
     "metadata": {},
     "source": [
      "The u here in front of the quotation stands for unicode, a standard form of string encoding.\n",
      "Note that IPython shows the time zone string object representation here rather\n",
      "than its print equivalent:"
     ]
    },
    {
     "cell_type": "code",
     "collapsed": false,
     "input": [
      "print records[0]['tz']"
     ],
     "language": "python",
     "metadata": {},
     "outputs": []
    },
    {
     "cell_type": "heading",
     "level": 3,
     "metadata": {},
     "source": [
      "Counting Time Zones in Pure Python"
     ]
    },
    {
     "cell_type": "heading",
     "level": 4,
     "metadata": {},
     "source": [
      "Suppose we were interested in the most often-occurring time zones in the data set (the\n",
      "tz field). There are many ways we could do this. First, let\u2019s extract a list of time zones\n",
      "again using a list comprehension:"
     ]
    },
    {
     "cell_type": "code",
     "collapsed": false,
     "input": [
      "time_zones = [rec['tz'] for rec in records]"
     ],
     "language": "python",
     "metadata": {},
     "outputs": []
    },
    {
     "cell_type": "heading",
     "level": 4,
     "metadata": {},
     "source": [
      "Oops! Turns out that not all of the records have a time zone field. This is easy to handle\n",
      "as we can add the check if 'tz' in rec at the end of the list comprehension:"
     ]
    },
    {
     "cell_type": "code",
     "collapsed": false,
     "input": [
      "time_zones = [rec['tz'] for rec in records if 'tz' in rec]"
     ],
     "language": "python",
     "metadata": {},
     "outputs": []
    },
    {
     "cell_type": "code",
     "collapsed": false,
     "input": [
      "time_zones[:10]"
     ],
     "language": "python",
     "metadata": {},
     "outputs": []
    },
    {
     "cell_type": "heading",
     "level": 4,
     "metadata": {},
     "source": [
      "Just looking at the first 10 time zones we see that some of them are unknown (empty).\n",
      "You can filter these out also but I\u2019ll leave them in for now. Now, to produce counts by\n",
      "time zone I\u2019ll show two approaches: the harder way (using just the Python standard\n",
      "library) and the easier way (using pandas). One way to do the counting is to use a dict\n",
      "to store counts while we iterate through the time zones:"
     ]
    },
    {
     "cell_type": "code",
     "collapsed": false,
     "input": [
      "def get_counts(sequence):\n",
      "    counts = {}\n",
      "    for x in sequence:\n",
      "        if x in counts:\n",
      "            counts[x] += 1\n",
      "        else:\n",
      "            counts[x] = 1\n",
      "    return counts"
     ],
     "language": "python",
     "metadata": {},
     "outputs": []
    },
    {
     "cell_type": "heading",
     "level": 4,
     "metadata": {},
     "source": [
      "If you know a bit more about the Python standard library, you might prefer to write\n",
      "the same thing more briefly:"
     ]
    },
    {
     "cell_type": "code",
     "collapsed": false,
     "input": [
      "from collections import defaultdict\n",
      "\n",
      "def get_counts2(sequence):\n",
      "    counts = defaultdict(int) # values will initialize to 0\n",
      "    for x in sequence:\n",
      "        counts[x] += 1\n",
      "    return counts"
     ],
     "language": "python",
     "metadata": {},
     "outputs": []
    },
    {
     "cell_type": "heading",
     "level": 4,
     "metadata": {},
     "source": [
      "I put this logic in a function just to make it more reusable. To use it on the time zones,\n",
      "just pass the time_zones list:"
     ]
    },
    {
     "cell_type": "code",
     "collapsed": false,
     "input": [
      "counts = get_counts(time_zones)"
     ],
     "language": "python",
     "metadata": {},
     "outputs": []
    },
    {
     "cell_type": "code",
     "collapsed": false,
     "input": [
      "counts['America/New_York']"
     ],
     "language": "python",
     "metadata": {},
     "outputs": []
    },
    {
     "cell_type": "code",
     "collapsed": false,
     "input": [
      "len(time_zones)"
     ],
     "language": "python",
     "metadata": {},
     "outputs": []
    },
    {
     "cell_type": "heading",
     "level": 4,
     "metadata": {},
     "source": [
      "If we wanted the top 10 time zones and their counts, we have to do a little bit of dictionary\n",
      "acrobatics:"
     ]
    },
    {
     "cell_type": "code",
     "collapsed": false,
     "input": [
      "def top_counts(count_dict, n=10):\n",
      "    value_key_pairs = [(count, tz) for tz, count in count_dict.items()]\n",
      "    value_key_pairs.sort()\n",
      "    return value_key_pairs[-n:]"
     ],
     "language": "python",
     "metadata": {},
     "outputs": []
    },
    {
     "cell_type": "heading",
     "level": 4,
     "metadata": {},
     "source": [
      "We have then:"
     ]
    },
    {
     "cell_type": "code",
     "collapsed": false,
     "input": [
      "top_counts(counts)"
     ],
     "language": "python",
     "metadata": {},
     "outputs": []
    },
    {
     "cell_type": "heading",
     "level": 4,
     "metadata": {},
     "source": [
      "If you search the Python standard library, you may find the collections.Counter class,\n",
      "which makes this task a lot easier:"
     ]
    },
    {
     "cell_type": "code",
     "collapsed": false,
     "input": [
      "from collections import Counter"
     ],
     "language": "python",
     "metadata": {},
     "outputs": []
    },
    {
     "cell_type": "code",
     "collapsed": false,
     "input": [
      "counts = Counter(time_zones)"
     ],
     "language": "python",
     "metadata": {},
     "outputs": []
    },
    {
     "cell_type": "code",
     "collapsed": false,
     "input": [
      "counts.most_common(10)"
     ],
     "language": "python",
     "metadata": {},
     "outputs": []
    },
    {
     "cell_type": "heading",
     "level": 3,
     "metadata": {},
     "source": [
      "Counting Time Zones with pandas"
     ]
    },
    {
     "cell_type": "heading",
     "level": 4,
     "metadata": {},
     "source": [
      "The main pandas data structure is the DataFrame, which you can think of as representing\n",
      "a table or spreadsheet of data. Creating a DataFrame from the original set of\n",
      "records is simple:"
     ]
    },
    {
     "cell_type": "code",
     "collapsed": false,
     "input": [
      "from pandas import DataFrame, Series"
     ],
     "language": "python",
     "metadata": {},
     "outputs": []
    },
    {
     "cell_type": "code",
     "collapsed": false,
     "input": [
      "import pandas as pd"
     ],
     "language": "python",
     "metadata": {},
     "outputs": []
    },
    {
     "cell_type": "code",
     "collapsed": false,
     "input": [
      "frame = DataFrame(records)"
     ],
     "language": "python",
     "metadata": {},
     "outputs": []
    },
    {
     "cell_type": "code",
     "collapsed": false,
     "input": [
      "frame"
     ],
     "language": "python",
     "metadata": {},
     "outputs": []
    },
    {
     "cell_type": "code",
     "collapsed": false,
     "input": [
      "frame['tz'][:10]"
     ],
     "language": "python",
     "metadata": {},
     "outputs": []
    },
    {
     "cell_type": "heading",
     "level": 4,
     "metadata": {},
     "source": [
      "The output shown for the frame is the summary view, shown for large DataFrame objects.\n",
      "The Series object returned by frame['tz'] has a method value_counts that gives\n",
      "us what we\u2019re looking for:"
     ]
    },
    {
     "cell_type": "code",
     "collapsed": false,
     "input": [
      "tz_counts = frame['tz'].value_counts()"
     ],
     "language": "python",
     "metadata": {},
     "outputs": []
    },
    {
     "cell_type": "code",
     "collapsed": false,
     "input": [
      "tz_counts[:10]"
     ],
     "language": "python",
     "metadata": {},
     "outputs": []
    },
    {
     "cell_type": "heading",
     "level": 4,
     "metadata": {},
     "source": [
      "Then, we might want to make a plot of this data using plotting library, matplotlib. You\n",
      "can do a bit of munging to fill in a substitute value for unknown and missing time zone\n",
      "data in the records. The fillna function can replace missing (NA) values and unknown\n",
      "(empty strings) values can be replaced by boolean array indexing:"
     ]
    },
    {
     "cell_type": "code",
     "collapsed": false,
     "input": [
      "clean_tz = frame['tz'].fillna('Missing')"
     ],
     "language": "python",
     "metadata": {},
     "outputs": []
    },
    {
     "cell_type": "code",
     "collapsed": false,
     "input": [
      "clean_tz[clean_tz == ''] = 'Unknown'"
     ],
     "language": "python",
     "metadata": {},
     "outputs": []
    },
    {
     "cell_type": "code",
     "collapsed": false,
     "input": [
      "tz_counts = clean_tz.value_counts()"
     ],
     "language": "python",
     "metadata": {},
     "outputs": []
    },
    {
     "cell_type": "code",
     "collapsed": false,
     "input": [
      "tz_counts[:10]"
     ],
     "language": "python",
     "metadata": {},
     "outputs": []
    },
    {
     "cell_type": "heading",
     "level": 4,
     "metadata": {},
     "source": [
      "Making a horizontal bar plot can be accomplished using the plot method on the\n",
      "counts objects:"
     ]
    },
    {
     "cell_type": "code",
     "collapsed": false,
     "input": [
      "tz_counts[:10].plot(kind='barh', rot=0)"
     ],
     "language": "python",
     "metadata": {},
     "outputs": []
    },
    {
     "cell_type": "heading",
     "level": 4,
     "metadata": {},
     "source": [
      "See the resulting figure. We\u2019ll explore more tools for working with this\n",
      "kind of data. For example, the a field contains information about the browser, device,\n",
      "or application used to perform the URL shortening:"
     ]
    },
    {
     "cell_type": "code",
     "collapsed": false,
     "input": [
      "frame['a'][1]"
     ],
     "language": "python",
     "metadata": {},
     "outputs": []
    },
    {
     "cell_type": "code",
     "collapsed": false,
     "input": [
      "frame['a'][50]"
     ],
     "language": "python",
     "metadata": {},
     "outputs": []
    },
    {
     "cell_type": "code",
     "collapsed": false,
     "input": [
      "frame['a'][51]"
     ],
     "language": "python",
     "metadata": {},
     "outputs": []
    },
    {
     "cell_type": "heading",
     "level": 4,
     "metadata": {},
     "source": [
      "Parsing all of the interesting information in these \u201cagent\u201d strings may seem like a\n",
      "daunting task. Luckily, once you have mastered Python\u2019s built-in string functions and\n",
      "regular expression capabilities, it is really not so bad. For example, we could split off\n",
      "the first token in the string (corresponding roughly to the browser capability) and make\n",
      "another summary of the user behavior:"
     ]
    },
    {
     "cell_type": "code",
     "collapsed": false,
     "input": [
      "results = Series([x.split()[0] for x in frame.a.dropna()])"
     ],
     "language": "python",
     "metadata": {},
     "outputs": []
    },
    {
     "cell_type": "code",
     "collapsed": false,
     "input": [
      "results[:5]"
     ],
     "language": "python",
     "metadata": {},
     "outputs": []
    },
    {
     "cell_type": "code",
     "collapsed": false,
     "input": [
      "results.value_counts()[:8]"
     ],
     "language": "python",
     "metadata": {},
     "outputs": []
    },
    {
     "cell_type": "heading",
     "level": 4,
     "metadata": {},
     "source": [
      "Now, suppose you wanted to decompose the top time zones into Windows and non-\n",
      "Windows users. As a simplification, let\u2019s say that a user is on Windows if the string\n",
      "'Windows' is in the agent string. Since some of the agents are missing, I\u2019ll exclude these\n",
      "from the data:"
     ]
    },
    {
     "cell_type": "code",
     "collapsed": false,
     "input": [
      "cframe = frame[frame.a.notnull()]"
     ],
     "language": "python",
     "metadata": {},
     "outputs": []
    },
    {
     "cell_type": "heading",
     "level": 4,
     "metadata": {},
     "source": [
      "We want to then compute a value whether each row is Windows or not:"
     ]
    },
    {
     "cell_type": "code",
     "collapsed": false,
     "input": [
      "import numpy as np # NEED to add this part!!!\n",
      "operating_system = np.where(cframe['a'].str.contains('Windows'),'Windows','Not Windows')"
     ],
     "language": "python",
     "metadata": {},
     "outputs": []
    },
    {
     "cell_type": "code",
     "collapsed": false,
     "input": [
      "operating_system[:5]"
     ],
     "language": "python",
     "metadata": {},
     "outputs": []
    },
    {
     "cell_type": "heading",
     "level": 4,
     "metadata": {},
     "source": [
      "Then, you can group the data by its time zone column and this new list of operating\n",
      "systems:"
     ]
    },
    {
     "cell_type": "code",
     "collapsed": false,
     "input": [
      "by_tz_os = cframe.groupby(['tz', operating_system])"
     ],
     "language": "python",
     "metadata": {},
     "outputs": []
    },
    {
     "cell_type": "heading",
     "level": 4,
     "metadata": {},
     "source": [
      "The group counts, analogous to the value_counts function above, can be computed\n",
      "using size. This result is then reshaped into a table with unstack:"
     ]
    },
    {
     "cell_type": "code",
     "collapsed": false,
     "input": [
      "agg_counts = by_tz_os.size().unstack().fillna(0)"
     ],
     "language": "python",
     "metadata": {},
     "outputs": []
    },
    {
     "cell_type": "code",
     "collapsed": false,
     "input": [
      "agg_counts[:10]"
     ],
     "language": "python",
     "metadata": {},
     "outputs": []
    },
    {
     "cell_type": "heading",
     "level": 4,
     "metadata": {},
     "source": [
      "Finally, let\u2019s select the top overall time zones. To do so, I construct an indirect index\n",
      "array from the row counts in agg_counts:"
     ]
    },
    {
     "cell_type": "code",
     "collapsed": false,
     "input": [
      "indexer = agg_counts.sum(1).argsort()"
     ],
     "language": "python",
     "metadata": {},
     "outputs": []
    },
    {
     "cell_type": "code",
     "collapsed": false,
     "input": [
      "indexer[:10]"
     ],
     "language": "python",
     "metadata": {},
     "outputs": []
    },
    {
     "cell_type": "heading",
     "level": 4,
     "metadata": {},
     "source": [
      "I then use take to select the rows in that order, then slice off the last 10 rows:"
     ]
    },
    {
     "cell_type": "code",
     "collapsed": false,
     "input": [
      "count_subset = agg_counts.take(indexer)[-10:]"
     ],
     "language": "python",
     "metadata": {},
     "outputs": []
    },
    {
     "cell_type": "code",
     "collapsed": false,
     "input": [
      "count_subset"
     ],
     "language": "python",
     "metadata": {},
     "outputs": []
    },
    {
     "cell_type": "heading",
     "level": 4,
     "metadata": {},
     "source": [
      "Then, as shown in the preceding code block, this can be plotted in a bar plot; I\u2019ll make\n",
      "it a stacked bar plot by passing stacked=True (see Figure) :"
     ]
    },
    {
     "cell_type": "code",
     "collapsed": false,
     "input": [
      "count_subset.plot(kind='barh', stacked=True)"
     ],
     "language": "python",
     "metadata": {},
     "outputs": []
    },
    {
     "cell_type": "heading",
     "level": 4,
     "metadata": {},
     "source": [
      "The plot doesn\u2019t make it easy to see the relative percentage of Windows users in the\n",
      "smaller groups, but the rows can easily be normalized to sum to 1 then plotted again\n",
      "(see Figure):"
     ]
    },
    {
     "cell_type": "code",
     "collapsed": false,
     "input": [
      "normed_subset = count_subset.div(count_subset.sum(1), axis=0)"
     ],
     "language": "python",
     "metadata": {},
     "outputs": []
    },
    {
     "cell_type": "code",
     "collapsed": false,
     "input": [
      "normed_subset.plot(kind='barh', stacked=True)"
     ],
     "language": "python",
     "metadata": {},
     "outputs": []
    },
    {
     "cell_type": "heading",
     "level": 3,
     "metadata": {},
     "source": [
      "MovieLens 1M Data Set"
     ]
    },
    {
     "cell_type": "heading",
     "level": 4,
     "metadata": {},
     "source": [
      "GroupLens Research (http://www.grouplens.org/node/73) provides a number of collections\n",
      "of movie ratings data collected from users of MovieLens in the late 1990s and early 2000s. The data provide movie ratings, movie metadata (genres and year), and\n",
      "demographic data about the users (age, zip code, gender, and occupation). Such data\n",
      "is often of interest in the development of recommendation systems based on machine\n",
      "learning algorithms. While I will not be exploring machine learning techniques in great\n",
      "detail in this book, I will show you how to slice and dice data sets like these into the\n",
      "exact form you need.\n"
     ]
    },
    {
     "cell_type": "heading",
     "level": 4,
     "metadata": {},
     "source": [
      "\n",
      "\n",
      "The MovieLens 1M data set contains 1 million ratings collected from 6000 users on\n",
      "4000 movies. It\u2019s spread across 3 tables: ratings, user information, and movie information.\n",
      "After extracting the data from the zip file, each table can be loaded into a pandas DataFrame object using pandas.read_table:"
     ]
    },
    {
     "cell_type": "code",
     "collapsed": false,
     "input": [
      "import pandas as pd\n",
      "unames = ['user_id', 'gender', 'age', 'occupation', 'zip']\n",
      "# MAKE SURE DIRECTORY is SET RIGHT \n",
      "# CODE HAS ...table('ml-1m/ratings.dat')...\n",
      "users = pd.read_table('users.dat', sep='::', header=None, names=unames)\n",
      "rnames = ['user_id', 'movie_id', 'rating', 'timestamp']\n",
      "ratings = pd.read_table('ratings.dat', sep='::', header=None, names=rnames)\n",
      "mnames = ['movie_id', 'title', 'genres']\n",
      "movies = pd.read_table('movies.dat', sep='::', header=None, names=mnames)"
     ],
     "language": "python",
     "metadata": {},
     "outputs": []
    },
    {
     "cell_type": "heading",
     "level": 4,
     "metadata": {},
     "source": [
      "You can verify that everything succeeded by looking at the first few rows of each DataFrame\n",
      "with Python's slice syntax:"
     ]
    },
    {
     "cell_type": "code",
     "collapsed": false,
     "input": [
      "users[:5]"
     ],
     "language": "python",
     "metadata": {},
     "outputs": []
    },
    {
     "cell_type": "code",
     "collapsed": false,
     "input": [
      "ratings[:5]"
     ],
     "language": "python",
     "metadata": {},
     "outputs": []
    },
    {
     "cell_type": "code",
     "collapsed": false,
     "input": [
      "movies[:5]"
     ],
     "language": "python",
     "metadata": {},
     "outputs": []
    },
    {
     "cell_type": "code",
     "collapsed": false,
     "input": [
      "ratings"
     ],
     "language": "python",
     "metadata": {},
     "outputs": []
    },
    {
     "cell_type": "heading",
     "level": 4,
     "metadata": {},
     "source": [
      "Note that ages and occupations are coded as integers indicating groups described in\n",
      "the data set\u2019s README file. Analyzing the data spread across three tables is not a simple\n",
      "task; for example, suppose you wanted to compute mean ratings for a particular movie\n",
      "by sex and age. As you will see, this is much easier to do with all of the data merged\n",
      "together into a single table. Using pandas\u2019s merge function, we first merge ratings with\n",
      "users then merging that result with the movies data. pandas infers which columns to\n",
      "use as the merge (or join) keys based on overlapping names:"
     ]
    },
    {
     "cell_type": "code",
     "collapsed": false,
     "input": [
      "data = pd.merge(pd.merge(ratings, users), movies)"
     ],
     "language": "python",
     "metadata": {},
     "outputs": []
    },
    {
     "cell_type": "code",
     "collapsed": false,
     "input": [
      "data"
     ],
     "language": "python",
     "metadata": {},
     "outputs": []
    },
    {
     "cell_type": "code",
     "collapsed": false,
     "input": [
      "data.ix[0]"
     ],
     "language": "python",
     "metadata": {},
     "outputs": []
    },
    {
     "cell_type": "heading",
     "level": 4,
     "metadata": {},
     "source": [
      "In this form, aggregating the ratings grouped by one or more user or movie attributes\n",
      "is straightforward once you build some familiarity with pandas. To get mean movie\n",
      "ratings for each film grouped by gender, we can use the pivot_table method:"
     ]
    },
    {
     "cell_type": "code",
     "collapsed": false,
     "input": [
      "mean_ratings = data.pivot_table('rating', rows='title', cols='gender', aggfunc='mean')"
     ],
     "language": "python",
     "metadata": {},
     "outputs": []
    },
    {
     "cell_type": "code",
     "collapsed": false,
     "input": [
      "mean_ratings[:5]"
     ],
     "language": "python",
     "metadata": {},
     "outputs": []
    },
    {
     "cell_type": "heading",
     "level": 4,
     "metadata": {},
     "source": [
      "This produced another DataFrame containing mean ratings with movie totals as row\n",
      "labels and gender as column labels. First, I\u2019m going to filter down to movies that received\n",
      "at least 250 ratings (a completely arbitrary number); to do this, I group the data\n",
      "by title and use size() to get a Series of group sizes for each title:"
     ]
    },
    {
     "cell_type": "code",
     "collapsed": false,
     "input": [
      "ratings_by_title = data.groupby('title').size()"
     ],
     "language": "python",
     "metadata": {},
     "outputs": []
    },
    {
     "cell_type": "code",
     "collapsed": false,
     "input": [
      "ratings_by_title[:10]"
     ],
     "language": "python",
     "metadata": {},
     "outputs": []
    },
    {
     "cell_type": "code",
     "collapsed": false,
     "input": [
      "active_titles = ratings_by_title.index[ratings_by_title >= 250]"
     ],
     "language": "python",
     "metadata": {},
     "outputs": []
    },
    {
     "cell_type": "code",
     "collapsed": false,
     "input": [
      "active_titles"
     ],
     "language": "python",
     "metadata": {},
     "outputs": []
    },
    {
     "cell_type": "heading",
     "level": 4,
     "metadata": {},
     "source": [
      "The index of titles receiving at least 250 ratings can then be used to select rows from\n",
      "mean_ratings above:"
     ]
    },
    {
     "cell_type": "code",
     "collapsed": false,
     "input": [
      "mean_ratings = mean_ratings.ix[active_titles]"
     ],
     "language": "python",
     "metadata": {},
     "outputs": []
    },
    {
     "cell_type": "code",
     "collapsed": false,
     "input": [
      "mean_ratings"
     ],
     "language": "python",
     "metadata": {},
     "outputs": []
    },
    {
     "cell_type": "heading",
     "level": 4,
     "metadata": {},
     "source": [
      "To see the top films among female viewers, we can sort by the F column in descending\n",
      "order:"
     ]
    },
    {
     "cell_type": "code",
     "collapsed": false,
     "input": [
      "top_female_ratings = mean_ratings.sort_index(by='F', ascending=False)"
     ],
     "language": "python",
     "metadata": {},
     "outputs": []
    },
    {
     "cell_type": "code",
     "collapsed": false,
     "input": [
      "top_female_ratings[:10]"
     ],
     "language": "python",
     "metadata": {},
     "outputs": []
    },
    {
     "cell_type": "heading",
     "level": 3,
     "metadata": {},
     "source": [
      "Measuring rating disagreement"
     ]
    },
    {
     "cell_type": "heading",
     "level": 4,
     "metadata": {},
     "source": [
      "Suppose you wanted to find the movies that are most divisive between male and female\n",
      "viewers. One way is to add a column to mean_ratings containing the difference in\n",
      "means, then sort by that:"
     ]
    },
    {
     "cell_type": "code",
     "collapsed": false,
     "input": [
      "mean_ratings['diff'] = mean_ratings['M'] - mean_ratings['F']"
     ],
     "language": "python",
     "metadata": {},
     "outputs": []
    },
    {
     "cell_type": "heading",
     "level": 4,
     "metadata": {},
     "source": [
      "Sorting by 'diff' gives us the movies with the greatest rating difference and which were\n",
      "preferred by women:"
     ]
    },
    {
     "cell_type": "code",
     "collapsed": false,
     "input": [
      "sorted_by_diff = mean_ratings.sort_index(by='diff')"
     ],
     "language": "python",
     "metadata": {},
     "outputs": []
    },
    {
     "cell_type": "code",
     "collapsed": false,
     "input": [
      "sorted_by_diff[:15]"
     ],
     "language": "python",
     "metadata": {},
     "outputs": []
    },
    {
     "cell_type": "heading",
     "level": 4,
     "metadata": {},
     "source": [
      "Reversing the order of the rows and again slicing off the top 15 rows, we get the movies\n",
      "preferred by men that women didn\u2019t rate as highly:"
     ]
    },
    {
     "cell_type": "code",
     "collapsed": false,
     "input": [
      "sorted_by_diff[::-1][:15]"
     ],
     "language": "python",
     "metadata": {},
     "outputs": []
    },
    {
     "cell_type": "heading",
     "level": 4,
     "metadata": {},
     "source": [
      "Suppose instead you wanted the movies that elicited the most disagreement among\n",
      "viewers, independent of gender. Disagreement can be measured by the variance or\n",
      "standard deviation of the ratings:"
     ]
    },
    {
     "cell_type": "code",
     "collapsed": false,
     "input": [
      "rating_std_by_title = data.groupby('title')['rating'].std()"
     ],
     "language": "python",
     "metadata": {},
     "outputs": []
    },
    {
     "cell_type": "code",
     "collapsed": false,
     "input": [
      "rating_std_by_title = rating_std_by_title.ix[active_titles]"
     ],
     "language": "python",
     "metadata": {},
     "outputs": []
    },
    {
     "cell_type": "code",
     "collapsed": false,
     "input": [
      "rating_std_by_title.order(ascending=False)[:10]"
     ],
     "language": "python",
     "metadata": {},
     "outputs": []
    },
    {
     "cell_type": "heading",
     "level": 4,
     "metadata": {},
     "source": [
      "You may have noticed that movie genres are given as a pipe-separated (|) string. If you\n",
      "wanted to do some analysis by genre, more work would be required to transform the\n",
      "genre information into a more usable form. I will revisit this data later in the book to\n",
      "illustrate such a transformation."
     ]
    },
    {
     "cell_type": "heading",
     "level": 3,
     "metadata": {},
     "source": [
      "US Baby Names 1880-2010"
     ]
    },
    {
     "cell_type": "heading",
     "level": 4,
     "metadata": {},
     "source": [
      "The United States Social Security Administration (SSA) has made available data on the\n",
      "frequency of baby names from 1880 through the present. Hadley Wickham, an author\n",
      "of several popular R packages, has often made use of this data set in illustrating data\n",
      "manipulation in R."
     ]
    },
    {
     "cell_type": "code",
     "collapsed": false,
     "input": [
      "# names.head(10)\n",
      "# does not work... Assume it is demonstrating something"
     ],
     "language": "python",
     "metadata": {},
     "outputs": []
    },
    {
     "cell_type": "heading",
     "level": 4,
     "metadata": {},
     "source": [
      "There are many things you might want to do with the data set:\n"
     ]
    },
    {
     "cell_type": "heading",
     "level": 4,
     "metadata": {},
     "source": [
      "\u2022 Visualize the proportion of babies given a particular name (your own, or another\n",
      "name) over time.\n"
     ]
    },
    {
     "cell_type": "heading",
     "level": 4,
     "metadata": {},
     "source": [
      "\u2022 Determine the relative rank of a name.\n"
     ]
    },
    {
     "cell_type": "heading",
     "level": 4,
     "metadata": {},
     "source": [
      "\u2022 Determine the most popular names in each year or the names with largest increases\n",
      "or decreases.\n"
     ]
    },
    {
     "cell_type": "heading",
     "level": 4,
     "metadata": {},
     "source": [
      "\u2022 Analyze trends in names: vowels, consonants, length, overall diversity, changes in\n",
      "spelling, first and last letters\n"
     ]
    },
    {
     "cell_type": "heading",
     "level": 4,
     "metadata": {},
     "source": [
      "\u2022 Analyze external sources of trends: biblical names, celebrities, demographic\n",
      "changes"
     ]
    },
    {
     "cell_type": "heading",
     "level": 4,
     "metadata": {},
     "source": [
      "Using the tools we\u2019ve looked at so far, most of these kinds of analyses are very straightforward,\n",
      "so I will walk you through many of them. I encourage you to download and\n",
      "explore the data yourself. If you find an interesting pattern in the data, I would love to\n",
      "hear about it."
     ]
    },
    {
     "cell_type": "heading",
     "level": 4,
     "metadata": {},
     "source": [
      "As of this writing, the US Social Security Administration makes available data files, one\n",
      "per year, containing the total number of births for each sex/name combination. The\n",
      "raw archive of these files can be obtained here:\n",
      "http://www.ssa.gov/oact/babynames/limits.html"
     ]
    },
    {
     "cell_type": "heading",
     "level": 4,
     "metadata": {},
     "source": [
      "In the event that this page has been moved by the time you\u2019re reading this, it can most\n",
      "likely be located again by Internet search. After downloading the \u201cNational data\u201d file\n",
      "names.zip and unzipping it, you will have a directory containing a series of files like\n",
      "yob1880.txt. I use the UNIX head command to look at the first 10 lines of one of the\n",
      "files (on Windows, you can use the more command or open it in a text editor):"
     ]
    },
    {
     "cell_type": "code",
     "collapsed": false,
     "input": [
      "open('yob1880.txt').readlines()[:10] #add this instead...\n"
     ],
     "language": "python",
     "metadata": {},
     "outputs": []
    },
    {
     "cell_type": "heading",
     "level": 4,
     "metadata": {},
     "source": [
      "As this is a nicely comma-separated form, it can be loaded into a DataFrame with\n",
      "pandas.read_csv"
     ]
    },
    {
     "cell_type": "code",
     "collapsed": false,
     "input": [
      "import pandas as pd\n",
      "#Make sure the directory is correct!\n",
      "names1880 = pd.read_csv('yob1880.txt', names=['name', 'sex', 'births'])\n",
      "names1880"
     ],
     "language": "python",
     "metadata": {},
     "outputs": []
    },
    {
     "cell_type": "heading",
     "level": 4,
     "metadata": {},
     "source": [
      "These files only contain names with at least 5 occurrences in each year, so for simplicity\u2019s\n",
      "sake we can use the sum of the births column by sex as the total number of births\n",
      "in that year:"
     ]
    },
    {
     "cell_type": "code",
     "collapsed": false,
     "input": [
      "names1880.groupby('sex').births.sum()"
     ],
     "language": "python",
     "metadata": {},
     "outputs": []
    },
    {
     "cell_type": "heading",
     "level": 4,
     "metadata": {},
     "source": [
      "Since the data set is split into files by year, one of the first things to do is to assemble\n",
      "all of the data into a single DataFrame and further to add a year field. This is easy to\n",
      "do using pandas.concat:"
     ]
    },
    {
     "cell_type": "code",
     "collapsed": false,
     "input": [
      "# 2010 is the last available year right now\n",
      "years = range(1880, 2011)\n",
      "\n",
      "pieces = []\n",
      "columns = ['name', 'sex', 'births']\n",
      "\n",
      "for year in years:\n",
      "    path = 'yob%d.txt' % year #MAKE SURE DIRECTORY IS RIGHT\n",
      "    frame = pd.read_csv(path, names=columns)\n",
      "\n",
      "    frame['year'] = year\n",
      "    pieces.append(frame)\n",
      "\n",
      "# Concatenate everything into a single DataFrame\n",
      "names = pd.concat(pieces, ignore_index=True)"
     ],
     "language": "python",
     "metadata": {},
     "outputs": []
    },
    {
     "cell_type": "heading",
     "level": 4,
     "metadata": {},
     "source": [
      "There are a couple things to note here. First, remember that concat glues the DataFrame\n",
      "objects together row-wise by default. Secondly, you have to pass ignore_index=True\n",
      "because we\u2019re not interested in preserving the original row numbers returned from\n",
      "read_csv. So we now have a very large DataFrame containing all of the names data:"
     ]
    },
    {
     "cell_type": "heading",
     "level": 4,
     "metadata": {},
     "source": [
      "Now the names DataFrame looks like:"
     ]
    },
    {
     "cell_type": "code",
     "collapsed": false,
     "input": [
      "names"
     ],
     "language": "python",
     "metadata": {},
     "outputs": []
    },
    {
     "cell_type": "heading",
     "level": 4,
     "metadata": {},
     "source": [
      "With this data in hand, we can already start aggregating the data at the year and sex\n",
      "level using groupby or pivot_table"
     ]
    },
    {
     "cell_type": "code",
     "collapsed": false,
     "input": [
      "total_births = names.pivot_table('births', rows='year', cols='sex', aggfunc=sum)"
     ],
     "language": "python",
     "metadata": {},
     "outputs": []
    },
    {
     "cell_type": "code",
     "collapsed": false,
     "input": [
      "total_births.tail()"
     ],
     "language": "python",
     "metadata": {},
     "outputs": []
    },
    {
     "cell_type": "code",
     "collapsed": false,
     "input": [
      "total_births.plot(title='Total births by sex and year')"
     ],
     "language": "python",
     "metadata": {},
     "outputs": []
    },
    {
     "cell_type": "heading",
     "level": 4,
     "metadata": {},
     "source": [
      "Remember that because births is of integer type, we have to cast either\n",
      "the numerator or denominator to floating point to compute a fraction\n",
      "(unless you are using Python 3!)."
     ]
    },
    {
     "cell_type": "heading",
     "level": 4,
     "metadata": {},
     "source": [
      "Next, let\u2019s insert a column prop with the fraction of babies given each name relative to\n",
      "the total number of births. A prop value of 0.02 would indicate that 2 out of every 100\n",
      "babies was given a particular name. Thus, we group the data by year and sex, then add\n",
      "the new column to each group:"
     ]
    },
    {
     "cell_type": "code",
     "collapsed": false,
     "input": [
      "def add_prop(group):\n",
      "    # Integer division floors\n",
      "    births = group.births.astype(float)\n",
      "    group['prop'] = births / births.sum()\n",
      "    return group\n",
      "\n",
      "names = names.groupby(['year', 'sex']).apply(add_prop)"
     ],
     "language": "python",
     "metadata": {},
     "outputs": []
    },
    {
     "cell_type": "heading",
     "level": 4,
     "metadata": {},
     "source": [
      "The resulting complete data set now has the following columns:"
     ]
    },
    {
     "cell_type": "code",
     "collapsed": false,
     "input": [
      "names"
     ],
     "language": "python",
     "metadata": {},
     "outputs": []
    },
    {
     "cell_type": "heading",
     "level": 4,
     "metadata": {},
     "source": [
      "When performing a group operation like this, it's often valuable to do a sanity check,\n",
      "like verifying that the prop column sums to 1 within all the groups. Since this is floating\n",
      "point data, use np.allclose to check that the group sums are sufficiently close to (but\n",
      "perhaps not exactly equal to) 1:"
     ]
    },
    {
     "cell_type": "code",
     "collapsed": false,
     "input": [
      "np.allclose(names.groupby(['year', 'sex']).prop.sum(), 1)"
     ],
     "language": "python",
     "metadata": {},
     "outputs": []
    },
    {
     "cell_type": "heading",
     "level": 4,
     "metadata": {},
     "source": [
      "Now that this is done, I\u2019m going to extract a subset of the data to facilitate further\n",
      "analysis: the top 1000 names for each sex/year combination. This is yet another group\n",
      "operation:"
     ]
    },
    {
     "cell_type": "code",
     "collapsed": false,
     "input": [
      "def get_top1000(group):\n",
      "    return group.sort_index(by='births', ascending=False)[:1000]\n",
      "grouped = names.groupby(['year', 'sex'])\n",
      "top1000 = grouped.apply(get_top1000)"
     ],
     "language": "python",
     "metadata": {},
     "outputs": []
    },
    {
     "cell_type": "heading",
     "level": 4,
     "metadata": {},
     "source": [
      "If you prefer a do-it-yourself approach, you could also do:"
     ]
    },
    {
     "cell_type": "code",
     "collapsed": false,
     "input": [
      "pieces = []\n",
      "for year, group in names.groupby(['year', 'sex']):\n",
      "    pieces.append(group.sort_index(by='births', ascending=False)[:1000])\n",
      "top1000 = pd.concat(pieces, ignore_index=True)"
     ],
     "language": "python",
     "metadata": {},
     "outputs": []
    },
    {
     "cell_type": "heading",
     "level": 4,
     "metadata": {},
     "source": [
      "The resulting data set is now quite a bit smaller:"
     ]
    },
    {
     "cell_type": "code",
     "collapsed": false,
     "input": [
      "top1000"
     ],
     "language": "python",
     "metadata": {},
     "outputs": []
    },
    {
     "cell_type": "heading",
     "level": 4,
     "metadata": {},
     "source": [
      "We\u2019ll use this Top 1,000 data set in the following investigations into the data."
     ]
    },
    {
     "cell_type": "heading",
     "level": 3,
     "metadata": {},
     "source": [
      "Analyzing Naming Trends"
     ]
    },
    {
     "cell_type": "heading",
     "level": 4,
     "metadata": {},
     "source": [
      "With the full data set and Top 1,000 data set in hand, we can start analyzing various\n",
      "naming trends of interest. Splitting the Top 1,000 names into the boy and girl portions\n",
      "is easy to do first:"
     ]
    },
    {
     "cell_type": "code",
     "collapsed": false,
     "input": [
      "boys = top1000[top1000.sex == 'M']"
     ],
     "language": "python",
     "metadata": {},
     "outputs": []
    },
    {
     "cell_type": "code",
     "collapsed": false,
     "input": [
      "girls = top1000[top1000.sex == 'F']"
     ],
     "language": "python",
     "metadata": {},
     "outputs": []
    },
    {
     "cell_type": "heading",
     "level": 4,
     "metadata": {},
     "source": [
      "Simple time series, like the number of Johns or Marys for each year can be plotted but\n",
      "require a bit of munging to be a bit more useful. Let\u2019s form a pivot table of the total\n",
      "number of births by year and name:"
     ]
    },
    {
     "cell_type": "code",
     "collapsed": false,
     "input": [
      "total_births = top1000.pivot_table('births', rows='year', cols='name', aggfunc=sum)"
     ],
     "language": "python",
     "metadata": {},
     "outputs": []
    },
    {
     "cell_type": "heading",
     "level": 4,
     "metadata": {},
     "source": [
      "Now, this can be plotted for a handful of names using DataFrame\u2019s plot method:"
     ]
    },
    {
     "cell_type": "code",
     "collapsed": false,
     "input": [
      "total_births"
     ],
     "language": "python",
     "metadata": {},
     "outputs": []
    },
    {
     "cell_type": "code",
     "collapsed": false,
     "input": [
      "subset = total_births[['John', 'Harry', 'Mary', 'Marilyn']]"
     ],
     "language": "python",
     "metadata": {},
     "outputs": []
    },
    {
     "cell_type": "code",
     "collapsed": false,
     "input": [
      "subset.plot(subplots=True, figsize=(12, 10), grid=False, title=\"Number of births per year\")"
     ],
     "language": "python",
     "metadata": {},
     "outputs": []
    },
    {
     "cell_type": "heading",
     "level": 4,
     "metadata": {},
     "source": [
      "On looking at this, you might conclude that these names\n",
      "have grown out of favor with the American population. But the story is actually more\n",
      "complicated than that, as will be explored in the next section."
     ]
    },
    {
     "cell_type": "heading",
     "level": 3,
     "metadata": {},
     "source": [
      "Measuring the increase in naming diversity"
     ]
    },
    {
     "cell_type": "heading",
     "level": 4,
     "metadata": {},
     "source": [
      "One explanation for the decrease in plots above is that fewer parents are choosing\n",
      "common names for their children. This hypothesis can be explored and confirmed in\n",
      "the data. One measure is the proportion of births represented by the top 1000 most\n",
      "popular names, which I aggregate and plot by year and sex:"
     ]
    },
    {
     "cell_type": "code",
     "collapsed": false,
     "input": [
      "table = top1000.pivot_table('prop', rows='year', cols='sex', aggfunc=sum)"
     ],
     "language": "python",
     "metadata": {},
     "outputs": []
    },
    {
     "cell_type": "code",
     "collapsed": false,
     "input": [
      "table.plot(title='Sum of table1000.prop by year and sex', yticks=np.linspace(0, 1.2, 13), xticks=range(1880, 2020, 10))"
     ],
     "language": "python",
     "metadata": {},
     "outputs": []
    },
    {
     "cell_type": "heading",
     "level": 4,
     "metadata": {},
     "source": [
      "So you can see that, indeed, there appears to be increasing\n",
      "name diversity (decreasing total proportion in the top 1,000). Another interesting metric\n",
      "is the number of distinct names, taken in order of popularity from highest to lowest,\n",
      "in the top 50% of births. This number is a bit more tricky to compute. Let\u2019s consider\n",
      "just the boy names from 2010:"
     ]
    },
    {
     "cell_type": "code",
     "collapsed": false,
     "input": [
      "df = boys[boys.year == 2010]"
     ],
     "language": "python",
     "metadata": {},
     "outputs": []
    },
    {
     "cell_type": "code",
     "collapsed": false,
     "input": [
      "df"
     ],
     "language": "python",
     "metadata": {},
     "outputs": []
    },
    {
     "cell_type": "heading",
     "level": 4,
     "metadata": {},
     "source": [
      "After sorting prop in descending order, we want to know how many of the most popular\n",
      "names it takes to reach 50%. You could write a for loop to do this, but a vectorized\n",
      "NumPy way is a bit more clever. Taking the cumulative sum, cumsum, of prop then calling\n",
      "the method searchsorted returns the position in the cumulative sum at which 0.5 would\n",
      "need to be inserted to keep it in sorted order:"
     ]
    },
    {
     "cell_type": "code",
     "collapsed": false,
     "input": [
      "prop_cumsum = df.sort_index(by='prop', ascending=False).prop.cumsum()"
     ],
     "language": "python",
     "metadata": {},
     "outputs": []
    },
    {
     "cell_type": "code",
     "collapsed": false,
     "input": [
      "prop_cumsum[:10]"
     ],
     "language": "python",
     "metadata": {},
     "outputs": []
    },
    {
     "cell_type": "code",
     "collapsed": false,
     "input": [
      "prop_cumsum.searchsorted(0.5)"
     ],
     "language": "python",
     "metadata": {},
     "outputs": []
    },
    {
     "cell_type": "heading",
     "level": 4,
     "metadata": {},
     "source": [
      "Since arrays are zero-indexed, adding 1 to this result gives you a result of 117. By contrast,\n",
      "in 1900 this number was much smaller:"
     ]
    },
    {
     "cell_type": "code",
     "collapsed": false,
     "input": [
      "df = boys[boys.year == 1900]"
     ],
     "language": "python",
     "metadata": {},
     "outputs": []
    },
    {
     "cell_type": "code",
     "collapsed": false,
     "input": [
      "in1900 = df.sort_index(by='prop', ascending=False).prop.cumsum()"
     ],
     "language": "python",
     "metadata": {},
     "outputs": []
    },
    {
     "cell_type": "code",
     "collapsed": false,
     "input": [
      "in1900.searchsorted(0.5) + 1"
     ],
     "language": "python",
     "metadata": {},
     "outputs": []
    },
    {
     "cell_type": "heading",
     "level": 4,
     "metadata": {},
     "source": [
      "It should now be fairly straightforward to apply this operation to each year/sex combination;\n",
      "groupby those fields and apply a function returning the count for each group:"
     ]
    },
    {
     "cell_type": "code",
     "collapsed": false,
     "input": [
      "def get_quantile_count(group, q=0.5):\n",
      "    group = group.sort_index(by='prop', ascending=False)\n",
      "    return group.prop.cumsum().searchsorted(q) + 1\n",
      "diversity = top1000.groupby(['year', 'sex']).apply(get_quantile_count)\n",
      "diversity = diversity.unstack('sex')"
     ],
     "language": "python",
     "metadata": {},
     "outputs": []
    },
    {
     "cell_type": "heading",
     "level": 4,
     "metadata": {},
     "source": [
      "This resulting DataFrame diversity now has two time series, one for each sex, indexed\n",
      "by year. This can be inspected in IPython and plotted as before"
     ]
    },
    {
     "cell_type": "code",
     "collapsed": false,
     "input": [
      "diversity.head()"
     ],
     "language": "python",
     "metadata": {},
     "outputs": []
    },
    {
     "cell_type": "code",
     "collapsed": false,
     "input": [
      "diversity.plot(title=\"Number of popular names in top 50%\")"
     ],
     "language": "python",
     "metadata": {},
     "outputs": []
    },
    {
     "cell_type": "heading",
     "level": 4,
     "metadata": {},
     "source": [
      "As you can see, girl names have always been more diverse than boy names, and they\n",
      "have only become more so over time. Further analysis of what exactly is driving the\n",
      "diversity, like the increase of alternate spellings, is left to the reader."
     ]
    },
    {
     "cell_type": "heading",
     "level": 3,
     "metadata": {},
     "source": [
      "The \u201cLast letter\u201d Revolution"
     ]
    },
    {
     "cell_type": "heading",
     "level": 4,
     "metadata": {},
     "source": [
      "In 2007, a baby name researcher Laura Wattenberg pointed out on her website (http:\n",
      "//www.babynamewizard.com) that the distribution of boy names by final letter has\n",
      "changed significantly over the last 100 years. To see this, I first aggregate all of the births\n",
      "in the full data set by year, sex, and final letter:"
     ]
    },
    {
     "cell_type": "code",
     "collapsed": false,
     "input": [
      "# extract last letter from name column\n",
      "get_last_letter = lambda x: x[-1]\n",
      "last_letters = names.name.map(get_last_letter)\n",
      "last_letters.name = 'last_letter'\n",
      "table = names.pivot_table('births', rows=last_letters, cols=['sex', 'year'], aggfunc=sum)"
     ],
     "language": "python",
     "metadata": {},
     "outputs": []
    },
    {
     "cell_type": "heading",
     "level": 4,
     "metadata": {},
     "source": [
      "Then, I select out three representative years spanning the history and print the first few\n",
      "rows:"
     ]
    },
    {
     "cell_type": "code",
     "collapsed": false,
     "input": [
      "subtable = table.reindex(columns=[1910, 1960, 2010], level='year')"
     ],
     "language": "python",
     "metadata": {},
     "outputs": []
    },
    {
     "cell_type": "code",
     "collapsed": false,
     "input": [
      "subtable.head()"
     ],
     "language": "python",
     "metadata": {},
     "outputs": []
    },
    {
     "cell_type": "heading",
     "level": 4,
     "metadata": {},
     "source": [
      "Next, normalize the table by total births to compute a new table containing proportion\n",
      "of total births for each sex ending in each letter:"
     ]
    },
    {
     "cell_type": "code",
     "collapsed": false,
     "input": [
      "subtable.sum()"
     ],
     "language": "python",
     "metadata": {},
     "outputs": []
    },
    {
     "cell_type": "code",
     "collapsed": false,
     "input": [
      "letter_prop = subtable / subtable.sum().astype(float)"
     ],
     "language": "python",
     "metadata": {},
     "outputs": []
    },
    {
     "cell_type": "heading",
     "level": 4,
     "metadata": {},
     "source": [
      "With the letter proportions now in hand, I can make bar plots for each sex broken\n",
      "down by year."
     ]
    },
    {
     "cell_type": "code",
     "collapsed": false,
     "input": [
      "import matplotlib.pyplot as plt\n",
      "fig, axes = plt.subplots(2, 1, figsize=(10, 8))\n",
      "letter_prop['M'].plot(kind='bar', rot=0, ax=axes[0], title='Male')\n",
      "letter_prop['F'].plot(kind='bar', rot=0, ax=axes[1], title='Female', legend=False)"
     ],
     "language": "python",
     "metadata": {},
     "outputs": []
    },
    {
     "cell_type": "heading",
     "level": 4,
     "metadata": {},
     "source": [
      "As you can see, boy names ending in \u201cn\u201d have experienced significant growth since the\n",
      "1960s. Going back to the full table created above, I again normalize by year and sex\n",
      "and select a subset of letters for the boy names, finally transposing to make each column\n",
      "a time series:"
     ]
    },
    {
     "cell_type": "code",
     "collapsed": false,
     "input": [
      "letter_prop = table / table.sum().astype(float)"
     ],
     "language": "python",
     "metadata": {},
     "outputs": []
    },
    {
     "cell_type": "code",
     "collapsed": false,
     "input": [
      "dny_ts = letter_prop.ix[['d', 'n', 'y'], 'M'].T"
     ],
     "language": "python",
     "metadata": {},
     "outputs": []
    },
    {
     "cell_type": "code",
     "collapsed": false,
     "input": [
      "dny_ts.head()"
     ],
     "language": "python",
     "metadata": {},
     "outputs": []
    },
    {
     "cell_type": "heading",
     "level": 4,
     "metadata": {},
     "source": [
      "With this DataFrame of time series in hand, I can make a plot of the trends over time\n",
      "again with its plot method"
     ]
    },
    {
     "cell_type": "code",
     "collapsed": false,
     "input": [
      "dny_ts.plot()"
     ],
     "language": "python",
     "metadata": {},
     "outputs": []
    },
    {
     "cell_type": "heading",
     "level": 3,
     "metadata": {},
     "source": [
      "Boy names that became girl names (and vice versa)"
     ]
    },
    {
     "cell_type": "heading",
     "level": 4,
     "metadata": {},
     "source": [
      "Another fun trend is looking at boy names that were more popular with one sex earlier\n",
      "in the sample but have \u201cchanged sexes\u201d in the present. One example is the name Lesley\n",
      "or Leslie. Going back to the top1000 dataset, I compute a list of names occurring in the\n",
      "dataset starting with 'lesl':"
     ]
    },
    {
     "cell_type": "code",
     "collapsed": false,
     "input": [
      "all_names = top1000.name.unique()"
     ],
     "language": "python",
     "metadata": {},
     "outputs": []
    },
    {
     "cell_type": "code",
     "collapsed": false,
     "input": [
      "mask = np.array(['lesl' in x.lower() for x in all_names])"
     ],
     "language": "python",
     "metadata": {},
     "outputs": []
    },
    {
     "cell_type": "code",
     "collapsed": false,
     "input": [
      "lesley_like = all_names[mask]"
     ],
     "language": "python",
     "metadata": {},
     "outputs": []
    },
    {
     "cell_type": "code",
     "collapsed": false,
     "input": [
      "lesley_like"
     ],
     "language": "python",
     "metadata": {},
     "outputs": []
    },
    {
     "cell_type": "heading",
     "level": 4,
     "metadata": {},
     "source": [
      "From there, we can filter down to just those names and sum births grouped by name\n",
      "to see the relative frequencies:"
     ]
    },
    {
     "cell_type": "code",
     "collapsed": false,
     "input": [
      "filtered = top1000[top1000.name.isin(lesley_like)]"
     ],
     "language": "python",
     "metadata": {},
     "outputs": []
    },
    {
     "cell_type": "code",
     "collapsed": false,
     "input": [
      "filtered.groupby('name').births.sum()"
     ],
     "language": "python",
     "metadata": {},
     "outputs": []
    },
    {
     "cell_type": "heading",
     "level": 4,
     "metadata": {},
     "source": [
      "Next, let\u2019s aggregate by sex and year and normalize within year:"
     ]
    },
    {
     "cell_type": "code",
     "collapsed": false,
     "input": [
      "table = filtered.pivot_table('births', rows='year', cols='sex', aggfunc='sum')"
     ],
     "language": "python",
     "metadata": {},
     "outputs": []
    },
    {
     "cell_type": "code",
     "collapsed": false,
     "input": [
      "table = table.div(table.sum(1), axis=0)"
     ],
     "language": "python",
     "metadata": {},
     "outputs": []
    },
    {
     "cell_type": "code",
     "collapsed": false,
     "input": [
      "table.tail()"
     ],
     "language": "python",
     "metadata": {},
     "outputs": []
    },
    {
     "cell_type": "heading",
     "level": 4,
     "metadata": {},
     "source": [
      "Lastly, it\u2019s now easy to make a plot of the breakdown by sex over time"
     ]
    },
    {
     "cell_type": "code",
     "collapsed": false,
     "input": [
      "table.plot(style={'M': 'k-', 'F': 'k--'})"
     ],
     "language": "python",
     "metadata": {},
     "outputs": []
    },
    {
     "cell_type": "heading",
     "level": 3,
     "metadata": {},
     "source": [
      "Conclusions and The Path Ahead"
     ]
    },
    {
     "cell_type": "heading",
     "level": 4,
     "metadata": {},
     "source": [
      "The examples in this chapter are rather simple, but they\u2019re here to give you a bit of a\n",
      "flavor of what sorts of things you can expect in the upcoming chapters. The focus of\n",
      "this book is on tools as opposed to presenting more sophisticated analytical methods.\n",
      "Mastering the techniques in this book will enable you to implement your own analyses\n",
      "(assuming you know what you want to do!) in short order."
     ]
    }
   ],
   "metadata": {}
  }
 ]
}