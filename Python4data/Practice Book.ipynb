{
 "metadata": {
  "name": "Practice Book"
 },
 "nbformat": 3,
 "nbformat_minor": 0,
 "worksheets": [
  {
   "cells": [
    {
     "cell_type": "raw",
     "metadata": {},
     "source": [
      "s=0 define the value by default if not signed"
     ]
    },
    {
     "cell_type": "raw",
     "metadata": {},
     "source": [
      "s = 0 pre-defined the value by default if not specified"
     ]
    },
    {
     "cell_type": "code",
     "collapsed": false,
     "input": [
      "def sum(n, s=0):\n",
      "    if n>0:\n",
      "        s = s+ n\n",
      "        n-=1\n",
      "        s=sum(n,s)\n",
      "        return s\n",
      "print sum(0)"
     ],
     "language": "python",
     "metadata": {},
     "outputs": []
    },
    {
     "cell_type": "raw",
     "metadata": {},
     "source": [
      "bug: 4 shouldn't be included"
     ]
    },
    {
     "cell_type": "code",
     "collapsed": false,
     "input": [
      "n= 100\n",
      "for i in range(2, n):\n",
      "    is_prime = True\n",
      "    for j in range(2,i):\n",
      "        if i%j == 0:\n",
      "            is_prime = False\n",
      "            break\n",
      "    if is_prime:\n",
      "        print i"
     ],
     "language": "python",
     "metadata": {},
     "outputs": []
    },
    {
     "cell_type": "raw",
     "metadata": {},
     "source": [
      "O(n^(3/2))"
     ]
    },
    {
     "cell_type": "code",
     "collapsed": false,
     "input": [
      "from math import sqrt\n",
      "n=100\n",
      "for i in range(2,n):\n",
      "    is_prime = True\n",
      "    for j in range(3, int(sqrt(i)) +1):\n",
      "        if i%j == 0:\n",
      "            is_prime=False\n",
      "            break\n",
      "    if is_prime:\n",
      "        print i"
     ],
     "language": "python",
     "metadata": {},
     "outputs": []
    },
    {
     "cell_type": "code",
     "collapsed": false,
     "input": [],
     "language": "python",
     "metadata": {},
     "outputs": []
    }
   ],
   "metadata": {}
  }
 ]
}