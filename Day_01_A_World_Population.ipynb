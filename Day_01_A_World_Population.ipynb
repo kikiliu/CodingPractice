{
 "metadata": {
  "name": ""
 },
 "nbformat": 3,
 "nbformat_minor": 0,
 "worksheets": [
  {
   "cells": [
    {
     "cell_type": "heading",
     "level": 1,
     "metadata": {},
     "source": [
      "Goals"
     ]
    },
    {
     "cell_type": "markdown",
     "metadata": {},
     "source": [
      "Some goals for this exercise:\n",
      "\n",
      "* to reacquaint ourselves with Python\n",
      "* to start learning how to use a particular IPython notebook environment, one which is easy to jump right into, namely [Wakari](https://www.wakari.io/)\n",
      "* to learn a bit about the international context before diving into the US Census.\n",
      "* to get ourselves into looking at the Wikipedia as a data source.\n",
      "\n",
      "Thinking about populations of various geographic entities is a good place to start with open data.  We can to work with numbers without necessarily involving complicated mathematics.  Just addition if we're lucky. We can also think about geographical locations.  We can build out from our initial explorations in a systematic manner.\n"
     ]
    },
    {
     "cell_type": "heading",
     "level": 1,
     "metadata": {},
     "source": [
      "Things to Think About"
     ]
    },
    {
     "cell_type": "markdown",
     "metadata": {},
     "source": [
      "Off the top of your head:\n",
      "    \n",
      "  * What do you think is the current world population?\n",
      "  * How many countries are there?\n",
      "  * How many people are there in the USA?  Canada?  Mexico?  Your favorite country?\n",
      "  * What is the minimum number of countries to add up to 50% of the world's population?  How about 90%?\n",
      "    \n",
      "Now go answer these questions looking on the web.  Find some a source or two or three."
     ]
    },
    {
     "cell_type": "heading",
     "level": 1,
     "metadata": {},
     "source": [
      "Data Source for Populations"
     ]
    },
    {
     "cell_type": "markdown",
     "metadata": {},
     "source": [
      "Two open sources we'll consider:\n",
      "\n",
      "* [CIA World Factbook: Country Comparison Population](https://www.cia.gov/library/publications/the-world-factbook/rankorder/2119rank.html) (see also [The World Factbook: ABOUT :: COPYRIGHT AND CONTRIBUTORS](https://www.cia.gov/library/publications/the-world-factbook/docs/contributor_copyright.html))\n",
      "* [List of countries by population (United Nations) - Wikipedia, the free encyclopedia](https://en.wikipedia.org/w/index.php?title=List_of_countries_by_population_(United_Nations)) (see also [Wikipedia:Reusing Wikipedia content - Wikipedia, the free encyclopedia](https://en.wikipedia.org/wiki/Wikipedia:Reusing_Wikipedia_content)) -- btw, not the same as [List of countries by population - Wikipedia, the free encyclopedia](https://en.wikipedia.org/wiki/List_of_countries_by_population).\n",
      "\n",
      "We will study how to parse these data sources in a later exercise, but for this exercise, the data sets have been parsed into [JSON format](https://en.wikipedia.org/wiki/JSON), which is easily loadable in many languages, including Python using the [json Python standard library](http://docs.python.org/2/library/json.html).  We'll also use [requests](http://docs.python-requests.org/en/latest/).\n",
      "\n",
      "Let's look first at the Wikipedia source."
     ]
    },
    {
     "cell_type": "code",
     "collapsed": false,
     "input": [
      "# https://gist.github.com/rdhyee/8511607/raw/f16257434352916574473e63612fcea55a0c1b1c/population_of_countries.json\n",
      "# scraping of https://en.wikipedia.org/w/index.php?title=List_of_countries_by_population_(United_Nations)&oldid=590438477\n",
      "\n",
      "# read population in\n",
      "import json\n",
      "import requests\n",
      "\n",
      "pop_json_url = \"https://gist.github.com/rdhyee/8511607/raw/f16257434352916574473e63612fcea55a0c1b1c/population_of_countries.json\"\n",
      "pop_list= requests.get(pop_json_url).json()\n",
      "pop_list"
     ],
     "language": "python",
     "metadata": {},
     "outputs": [
      {
       "metadata": {},
       "output_type": "pyout",
       "prompt_number": 5,
       "text": [
        "[[1, u'China', 1385566537],\n",
        " [2, u'India', 1252139596],\n",
        " [3, u'United States', 320050716],\n",
        " [4, u'Indonesia', 249865631],\n",
        " [5, u'Brazil', 200361925],\n",
        " [6, u'Pakistan', 182142594],\n",
        " [7, u'Nigeria', 173615345],\n",
        " [8, u'Bangladesh', 156594962],\n",
        " [9, u'Russia', 142833689],\n",
        " [10, u'Japan', 127143577],\n",
        " [11, u'Mexico', 122332399],\n",
        " [12, u'Philippines', 98393574],\n",
        " [13, u'Ethiopia', 94100756],\n",
        " [14, u'Vietnam', 91679733],\n",
        " [15, u'Germany', 82726626],\n",
        " [16, u'Egypt', 82056378],\n",
        " [17, u'Iran', 77447168],\n",
        " [18, u'Turkey', 74932641],\n",
        " [19, u'Congo, Democratic Republic of the', 67513677],\n",
        " [20, u'Thailand', 67010502],\n",
        " [21, u'France', 64291280],\n",
        " [22, u'United Kingdom', 63136265],\n",
        " [23, u'Italy', 60990277],\n",
        " [24, u'Myanmar', 53259018],\n",
        " [25, u'South Africa', 52776130],\n",
        " [26, u'Korea, South', 49262698],\n",
        " [27, u'Tanzania', 49253126],\n",
        " [28, u'Colombia', 48321405],\n",
        " [29, u'Spain', 46926963],\n",
        " [30, u'Ukraine', 45238805],\n",
        " [31, u'Kenya', 44353691],\n",
        " [32, u'Argentina', 41446246],\n",
        " [33, u'Algeria', 39208194],\n",
        " [34, u'Poland', 38216635],\n",
        " [35, u'Sudan', 37964306],\n",
        " [36, u'Uganda', 37578876],\n",
        " [37, u'Canada', 35181704],\n",
        " [38, u'Iraq', 33765232],\n",
        " [39, u'Morocco', 33008150],\n",
        " [40, u'Afghanistan', 30551674],\n",
        " [41, u'Venezuela', 30405207],\n",
        " [42, u'Peru', 30375603],\n",
        " [43, u'Malaysia', 29716965],\n",
        " [44, u'Uzbekistan', 28934102],\n",
        " [45, u'Saudi Arabia', 28828870],\n",
        " [46, u'Nepal', 27797457],\n",
        " [47, u'Ghana', 25904598],\n",
        " [48, u'Mozambique', 25833752],\n",
        " [49, u'Korea, North', 24895480],\n",
        " [50, u'Yemen', 24407381],\n",
        " [51, u'Australia', 23342553],\n",
        " [52, u'Taiwan', 23329772],\n",
        " [53, u'Madagascar', 22924851],\n",
        " [54, u'Cameroon', 22253959],\n",
        " [55, u'Syria', 21898061],\n",
        " [56, u'Romania', 21698585],\n",
        " [57, u'Angola', 21471618],\n",
        " [58, u'Sri Lanka', 21273228],\n",
        " [59, u\"C\\xf4te d'Ivoire\", 20316086],\n",
        " [60, u'Niger', 17831270],\n",
        " [61, u'Chile', 17619708],\n",
        " [62, u'Burkina Faso', 16934839],\n",
        " [63, u'Netherlands', 16759229],\n",
        " [64, u'Kazakhstan', 16440586],\n",
        " [65, u'Malawi', 16362567],\n",
        " [66, u'Ecuador', 15737878],\n",
        " [67, u'Guatemala', 15468203],\n",
        " [68, u'Mali', 15301650],\n",
        " [69, u'Cambodia', 15135169],\n",
        " [70, u'Zambia', 14538640],\n",
        " [71, u'Zimbabwe', 14149648],\n",
        " [72, u'Senegal', 14133280],\n",
        " [73, u'Chad', 12825314],\n",
        " [74, u'Rwanda', 11776522],\n",
        " [75, u'Guinea', 11745189],\n",
        " [76, u'South Sudan', 11296173],\n",
        " [77, u'Cuba', 11265629],\n",
        " [78, u'Greece', 11127990],\n",
        " [79, u'Belgium', 11104476],\n",
        " [80, u'Tunisia', 10996515],\n",
        " [81, u'Czech Republic', 10702197],\n",
        " [82, u'Bolivia', 10671200],\n",
        " [83, u'Portugal', 10608156],\n",
        " [84, u'Somalia', 10495583],\n",
        " [85, u'Dominican Republic', 10403761],\n",
        " [86, u'Benin', 10323474],\n",
        " [87, u'Haiti', 10317461],\n",
        " [88, u'Burundi', 10162532],\n",
        " [89, u'Hungary', 9954941],\n",
        " [90, u'Sweden', 9571105],\n",
        " [91, u'Serbia; Kosovo', 9510506],\n",
        " [92, u'Azerbaijan', 9413420],\n",
        " [93, u'Belarus', 9356678],\n",
        " [94, u'United Arab Emirates', 9346129],\n",
        " [95, u'Austria', 8495145],\n",
        " [96, u'Tajikistan', 8207834],\n",
        " [97, u'Honduras', 8097688],\n",
        " [98, u'Switzerland', 8077833],\n",
        " [99, u'Israel', 7733144],\n",
        " [100, u'Papua New Guinea', 7321262],\n",
        " [101, u'Jordan', 7273799],\n",
        " [102, u'Bulgaria', 7222943],\n",
        " [None, u'Hong Kong', 7203836],\n",
        " [103, u'Togo', 6816982],\n",
        " [104, u'Paraguay', 6802295],\n",
        " [105, u'Laos', 6769727],\n",
        " [106, u'El Salvador', 6340454],\n",
        " [107, u'Eritrea', 6333135],\n",
        " [108, u'Libya', 6201521],\n",
        " [109, u'Sierra Leone', 6092075],\n",
        " [110, u'Nicaragua', 6080478],\n",
        " [111, u'Denmark', 5619096],\n",
        " [112, u'Kyrgyzstan', 5547548],\n",
        " [113, u'Slovakia', 5450223],\n",
        " [114, u'Finland', 5426323],\n",
        " [115, u'Singapore', 5411737],\n",
        " [116, u'Turkmenistan', 5240072],\n",
        " [117, u'Norway', 5042671],\n",
        " [118, u'Costa Rica', 4872166],\n",
        " [119, u'Lebanon', 4821971],\n",
        " [120, u'Ireland', 4627173],\n",
        " [121, u'Central African Republic', 4616417],\n",
        " [122, u'New Zealand', 4505761],\n",
        " [123, u'Congo, Republic of the', 4447632],\n",
        " [124, u'Georgia', 4340895],\n",
        " [125, u'Palestine', 4326295],\n",
        " [126, u'Liberia', 4294077],\n",
        " [127, u'Croatia', 4289714],\n",
        " [128, u'Mauritania', 3889880],\n",
        " [129, u'Panama', 3864170],\n",
        " [130, u'Bosnia and Herzegovina', 3829307],\n",
        " [None, u'Puerto Rico', 3688318],\n",
        " [131, u'Oman', 3632444],\n",
        " [132, u'Moldova', 3487204],\n",
        " [133, u'Uruguay', 3407062],\n",
        " [134, u'Kuwait', 3368572],\n",
        " [135, u'Albania', 3173271],\n",
        " [136, u'Lithuania', 3016933],\n",
        " [137, u'Armenia', 2976566],\n",
        " [138, u'Mongolia', 2839073],\n",
        " [139, u'Jamaica', 2783888],\n",
        " [140, u'Namibia', 2303315],\n",
        " [141, u'Qatar', 2168673],\n",
        " [142, u'Macedonia', 2107158],\n",
        " [143, u'Lesotho', 2074465],\n",
        " [144, u'Slovenia', 2071997],\n",
        " [145, u'Latvia', 2050317],\n",
        " [146, u'Botswana', 2021144],\n",
        " [147, u'Gambia', 1849285],\n",
        " [148, u'Guinea-Bissau', 1704255],\n",
        " [149, u'Gabon', 1671711],\n",
        " [150, u'Trinidad and Tobago', 1341151],\n",
        " [151, u'Bahrain', 1332171],\n",
        " [152, u'Estonia', 1287251],\n",
        " [153, u'Swaziland', 1249514],\n",
        " [154, u'Mauritius', 1244403],\n",
        " [155, u'Cyprus', 1141166],\n",
        " [156, u'Timor-Leste', 1132879],\n",
        " [157, u'Fiji', 881065],\n",
        " [None, u'R\\xe9union', 875375],\n",
        " [158, u'Djibouti', 872932],\n",
        " [159, u'Guyana', 799613],\n",
        " [160, u'Equatorial Guinea', 757014],\n",
        " [161, u'Bhutan', 753947],\n",
        " [162, u'Comoros', 734917],\n",
        " [163, u'Montenegro', 621383],\n",
        " [None, u'Western Sahara', 567315],\n",
        " [None, u'Macau', 566375],\n",
        " [164, u'Solomon Islands', 561231],\n",
        " [165, u'Suriname', 539276],\n",
        " [166, u'Luxembourg', 530380],\n",
        " [167, u'Cape Verde', 498897],\n",
        " [None, u'Guadeloupe', 465800],\n",
        " [168, u'Malta', 429004],\n",
        " [169, u'Brunei', 417784],\n",
        " [None, u'Martinique', 403682],\n",
        " [170, u'Bahamas', 377374],\n",
        " [171, u'Maldives', 345023],\n",
        " [172, u'Belize', 331900],\n",
        " [173, u'Iceland', 329535],\n",
        " [174, u'Barbados', 284644],\n",
        " [None, u'French Polynesia', 276831],\n",
        " [None, u'New Caledonia', 256496],\n",
        " [175, u'Vanuatu', 252763],\n",
        " [None, u'French Guiana', 249227],\n",
        " [None, u'Mayotte', 222152],\n",
        " [176, u'S\\xe3o Tom\\xe9 and Pr\\xedncipe', 192993],\n",
        " [177, u'Samoa', 190372],\n",
        " [178, u'Saint Lucia', 182273],\n",
        " [None, u'Guam', 165124],\n",
        " [None, u'Guernsey; Jersey', 162018],\n",
        " [None, u'Cura\\xe7ao', 158760],\n",
        " [179, u'Saint Vincent and the Grenadines', 109373],\n",
        " [None, u'Virgin Islands, United States', 106627],\n",
        " [180, u'Grenada', 105897],\n",
        " [181, u'Tonga', 105323],\n",
        " [182, u'Micronesia, Federated States of', 103549],\n",
        " [None, u'Aruba', 102911],\n",
        " [183, u'Kiribati', 102351],\n",
        " [184, u'Seychelles', 92838],\n",
        " [185, u'Antigua and Barbuda', 89985],\n",
        " [None, u'Isle of Man', 85888],\n",
        " [186, u'Andorra', 79218],\n",
        " [187, u'Dominica', 72003],\n",
        " [None, u'Bermuda', 65341],\n",
        " [None, u'Cayman Islands', 58435],\n",
        " [None, u'Greenland', 56987],\n",
        " [None, u'American Samoa', 55165],\n",
        " [188, u'Saint Kitts and Nevis', 54191],\n",
        " [None, u'Northern Mariana Islands', 53855],\n",
        " [189, u'Marshall Islands', 52634],\n",
        " [None, u'Faroe Islands', 49469],\n",
        " [None, u'Sint Maarten', 45233],\n",
        " [190, u'Monaco', 37831],\n",
        " [191, u'Liechtenstein', 36925],\n",
        " [None, u'Turks and Caicos Islands', 33098],\n",
        " [192, u'San Marino', 31448],\n",
        " [None, u'Gibraltar', 29310],\n",
        " [None, u'Virgin Islands, British', 28341],\n",
        " [193, u'Palau', 20918],\n",
        " [None, u'Cook Islands', 20629],\n",
        " [None, u'Caribbean Netherlands', 19130],\n",
        " [None, u'Anguilla', 14300],\n",
        " [None, u'Wallis and Futuna', 13272],\n",
        " [194, u'Nauru', 10051],\n",
        " [195, u'Tuvalu', 9876],\n",
        " [None, u'Saint Pierre and Miquelon', 6043],\n",
        " [None, u'Montserrat', 5091],\n",
        " [None, u'Saint Helena, Ascension and Tristan da Cunha', 4129],\n",
        " [None, u'Falkland Islands', 3044],\n",
        " [None, u'Niue', 1344],\n",
        " [None, u'Tokelau', 1195],\n",
        " [196, u'Vatican City', 799]]"
       ]
      }
     ],
     "prompt_number": 5
    },
    {
     "cell_type": "heading",
     "level": 1,
     "metadata": {},
     "source": [
      "EXERCISES"
     ]
    },
    {
     "cell_type": "markdown",
     "metadata": {},
     "source": [
      "Show how to calculate the total population according to the list in the Wikipedia. (Answer: 7,162,119,434)"
     ]
    },
    {
     "cell_type": "markdown",
     "metadata": {},
     "source": [
      "Slicing to peek"
     ]
    },
    {
     "cell_type": "code",
     "collapsed": false,
     "input": [
      "pop_list[0:5]"
     ],
     "language": "python",
     "metadata": {},
     "outputs": [
      {
       "metadata": {},
       "output_type": "pyout",
       "prompt_number": 7,
       "text": [
        "[[1, u'China', 1385566537],\n",
        " [2, u'India', 1252139596],\n",
        " [3, u'United States', 320050716],\n",
        " [4, u'Indonesia', 249865631],\n",
        " [5, u'Brazil', 200361925]]"
       ]
      }
     ],
     "prompt_number": 7
    },
    {
     "cell_type": "raw",
     "metadata": {},
     "source": [
      "Comprehension: has to use [] to build the result into a list then sum up\n",
      "Also it refered to the specific method by __builtin__.sum"
     ]
    },
    {
     "cell_type": "code",
     "collapsed": false,
     "input": [
      "sum([country[2] for country in pop_list])"
     ],
     "language": "python",
     "metadata": {},
     "outputs": [
      {
       "metadata": {},
       "output_type": "pyout",
       "prompt_number": 8,
       "text": [
        "7162119434L"
       ]
      }
     ],
     "prompt_number": 8
    },
    {
     "cell_type": "markdown",
     "metadata": {},
     "source": [
      "Calculate the total population of 196 entities that have a numeric rank. (Answer: 7,145,999,288) BTW, are those entities actually countries?"
     ]
    },
    {
     "cell_type": "code",
     "collapsed": false,
     "input": [
      "sum([country[2] for country in pop_list if country[0] is not None])"
     ],
     "language": "python",
     "metadata": {},
     "outputs": [
      {
       "metadata": {},
       "output_type": "pyout",
       "prompt_number": 10,
       "text": [
        "7145999288L"
       ]
      }
     ],
     "prompt_number": 10
    },
    {
     "cell_type": "markdown",
     "metadata": {},
     "source": [
      "Calculate the total population according to [The World Factbook: Country Comparison Population](https://www.cia.gov/library/publications/the-world-factbook/rankorder/2119rank.html) (See https://gist.github.com/rdhyee/8530164)."
     ]
    },
    {
     "cell_type": "markdown",
     "metadata": {},
     "source": [
      "json: {} has different meaning in javascript, so uses []"
     ]
    },
    {
     "cell_type": "code",
     "collapsed": false,
     "input": [
      "import json\n",
      "import requests\n",
      "\n",
      "wiki_json_url = \"https://gist.github.com/rdhyee/8530164/raw/f8e842fe8ccd6e3bc424e3a24e41ef5c38f419e8/world_factbook_poulation.json\"\n",
      "wiki_list = requests.get(wiki_json_url).json()\n",
      "wiki_list"
     ],
     "language": "python",
     "metadata": {},
     "outputs": [
      {
       "metadata": {},
       "output_type": "pyout",
       "prompt_number": 3,
       "text": [
        "[[1, u'China', 1349585838],\n",
        " [2, u'India', 1220800359],\n",
        " [3, u'European Union', 509365627],\n",
        " [4, u'United States', 316438601],\n",
        " [5, u'Indonesia', 251160124],\n",
        " [6, u'Brazil', 201009622],\n",
        " [7, u'Pakistan', 193238868],\n",
        " [8, u'Nigeria', 174507539],\n",
        " [9, u'Bangladesh', 163654860],\n",
        " [10, u'Russia', 142500482],\n",
        " [11, u'Japan', 127253075],\n",
        " [12, u'Mexico', 118818228],\n",
        " [13, u'Philippines', 105720644],\n",
        " [14, u'Ethiopia', 93877025],\n",
        " [15, u'Vietnam', 92477857],\n",
        " [16, u'Egypt', 85294388],\n",
        " [17, u'Germany', 81147265],\n",
        " [18, u'Turkey', 80694485],\n",
        " [19, u'Iran', 79853900],\n",
        " [20, u'Congo, Democratic Republic of the', 75507308],\n",
        " [21, u'Thailand', 67497151],\n",
        " [22, u'France', 65951611],\n",
        " [23, u'United Kingdom', 63395574],\n",
        " [24, u'Italy', 61482297],\n",
        " [25, u'Burma', 55167330],\n",
        " [26, u'Korea, South', 48955203],\n",
        " [27, u'South Africa', 48601098],\n",
        " [28, u'Tanzania', 48261942],\n",
        " [29, u'Spain', 47370542],\n",
        " [30, u'Colombia', 45745783],\n",
        " [31, u'Ukraine', 44573205],\n",
        " [32, u'Kenya', 44037656],\n",
        " [33, u'Argentina', 42610981],\n",
        " [34, u'Poland', 38383809],\n",
        " [35, u'Algeria', 38087812],\n",
        " [36, u'Sudan', 34847910],\n",
        " [37, u'Uganda', 34758809],\n",
        " [38, u'Canada', 34568211],\n",
        " [39, u'Morocco', 32649130],\n",
        " [40, u'Iraq', 31858481],\n",
        " [41, u'Afghanistan', 31108077],\n",
        " [42, u'Nepal', 30430267],\n",
        " [43, u'Peru', 29849303],\n",
        " [44, u'Malaysia', 29628392],\n",
        " [45, u'Uzbekistan', 28661637],\n",
        " [46, u'Venezuela', 28459085],\n",
        " [47, u'Saudi Arabia', 26939583],\n",
        " [48, u'Yemen', 25338458],\n",
        " [49, u'Ghana', 25199609],\n",
        " [50, u'Korea, North', 24720407],\n",
        " [51, u'Mozambique', 24096669],\n",
        " [52, u'Taiwan', 23299716],\n",
        " [53, u'Madagascar', 22599098],\n",
        " [54, u'Cameroon', 22534532],\n",
        " [55, u'Syria', 22457336],\n",
        " [56, u\"Cote d'Ivoire\", 22400835],\n",
        " [57, u'Australia', 22262501],\n",
        " [58, u'Romania', 21790479],\n",
        " [59, u'Sri Lanka', 21675648],\n",
        " [60, u'Angola', 18565269],\n",
        " [61, u'Burkina Faso', 17812961],\n",
        " [62, u'Kazakhstan', 17736896],\n",
        " [63, u'Chile', 17216945],\n",
        " [64, u'Niger', 16899327],\n",
        " [65, u'Netherlands', 16805037],\n",
        " [66, u'Malawi', 16777547],\n",
        " [67, u'Mali', 15968882],\n",
        " [68, u'Ecuador', 15439429],\n",
        " [69, u'Cambodia', 15205539],\n",
        " [70, u'Guatemala', 14373472],\n",
        " [71, u'Zambia', 14222233],\n",
        " [72, u'Senegal', 13300410],\n",
        " [73, u'Zimbabwe', 13182908],\n",
        " [74, u'Rwanda', 12012589],\n",
        " [75, u'Chad', 11193452],\n",
        " [76, u'Guinea', 11176026],\n",
        " [77, u'South Sudan', 11090104],\n",
        " [78, u'Cuba', 11061886],\n",
        " [79, u'Tunisia', 10835873],\n",
        " [80, u'Portugal', 10799270],\n",
        " [81, u'Greece', 10772967],\n",
        " [82, u'Czech Republic', 10609762],\n",
        " [83, u'Bolivia', 10461053],\n",
        " [84, u'Belgium', 10444268],\n",
        " [85, u'Somalia', 10251568],\n",
        " [86, u'Dominican Republic', 10219630],\n",
        " [87, u'Hungary', 9939470],\n",
        " [88, u'Haiti', 9893934],\n",
        " [89, u'Benin', 9877292],\n",
        " [90, u'Sweden', 9647386],\n",
        " [91, u'Belarus', 9625888],\n",
        " [92, u'Azerbaijan', 9590159],\n",
        " [93, u'Honduras', 8448465],\n",
        " [94, u'Austria', 8221646],\n",
        " [95, u'Switzerland', 7996026],\n",
        " [96, u'Tajikistan', 7910041],\n",
        " [97, u'Israel', 7707042],\n",
        " [98, u'Serbia', 7243007],\n",
        " [99, u'Togo', 7154237],\n",
        " [100, u'Hong Kong', 7082316],\n",
        " [101, u'Bulgaria', 6981642],\n",
        " [102, u'Laos', 6695166],\n",
        " [103, u'Paraguay', 6623252],\n",
        " [104, u'Jordan', 6482081],\n",
        " [105, u'Papua New Guinea', 6431902],\n",
        " [106, u'Eritrea', 6233682],\n",
        " [107, u'El Salvador', 6108590],\n",
        " [108, u'Libya', 6002347],\n",
        " [109, u'Nicaragua', 5788531],\n",
        " [110, u'Sierra Leone', 5612685],\n",
        " [111, u'Denmark', 5556452],\n",
        " [112, u'Kyrgyzstan', 5548042],\n",
        " [113, u'Slovakia', 5488339],\n",
        " [114, u'United Arab Emirates', 5473972],\n",
        " [115, u'Singapore', 5460302],\n",
        " [116, u'Finland', 5266114],\n",
        " [117, u'Central African Republic', 5166510],\n",
        " [118, u'Turkmenistan', 5113040],\n",
        " [119, u'Norway', 5085582],\n",
        " [120, u'Georgia', 4942157],\n",
        " [121, u'Ireland', 4775982],\n",
        " [122, u'Costa Rica', 4695942],\n",
        " [123, u'Congo, Republic of the', 4574099],\n",
        " [124, u'Croatia', 4475611],\n",
        " [125, u'New Zealand', 4365113],\n",
        " [126, u'Lebanon', 4131583],\n",
        " [127, u'Liberia', 3989703],\n",
        " [128, u'Bosnia and Herzegovina', 3875723],\n",
        " [129, u'Puerto Rico', 3645648],\n",
        " [130, u'Moldova', 3619925],\n",
        " [131, u'Panama', 3559408],\n",
        " [132, u'Lithuania', 3515858],\n",
        " [133, u'Mauritania', 3437610],\n",
        " [134, u'Uruguay', 3324460],\n",
        " [135, u'Oman', 3154134],\n",
        " [136, u'Armenia', 3064267],\n",
        " [137, u'Albania', 3011405],\n",
        " [138, u'Mongolia', 2912192],\n",
        " [139, u'Jamaica', 2909714],\n",
        " [140, u'Kuwait', 2695316],\n",
        " [141, u'West Bank', 2676740],\n",
        " [142, u'Namibia', 2182852],\n",
        " [143, u'Latvia', 2178443],\n",
        " [144, u'Botswana', 2127825],\n",
        " [145, u'Macedonia', 2087171],\n",
        " [146, u'Qatar', 2042444],\n",
        " [147, u'Slovenia', 1992690],\n",
        " [148, u'Lesotho', 1936181],\n",
        " [149, u'Gambia, The', 1883051],\n",
        " [150, u'Kosovo', 1847708],\n",
        " [151, u'Gaza Strip', 1763387],\n",
        " [152, u'Guinea-Bissau', 1660870],\n",
        " [153, u'Gabon', 1640286],\n",
        " [154, u'Swaziland', 1403362],\n",
        " [155, u'Mauritius', 1322238],\n",
        " [156, u'Bahrain', 1281332],\n",
        " [157, u'Estonia', 1266375],\n",
        " [158, u'Trinidad and Tobago', 1225225],\n",
        " [159, u'Timor-Leste', 1172390],\n",
        " [160, u'Cyprus', 1155403],\n",
        " [161, u'Burundi', 1060714],\n",
        " [162, u'Fiji', 896758],\n",
        " [163, u'Djibouti', 792198],\n",
        " [164, u'Comoros', 752288],\n",
        " [165, u'Guyana', 739903],\n",
        " [166, u'Bhutan', 725296],\n",
        " [167, u'Equatorial Guinea', 704001],\n",
        " [168, u'Montenegro', 653474],\n",
        " [169, u'Solomon Islands', 597248],\n",
        " [170, u'Macau', 583003],\n",
        " [171, u'Suriname', 566846],\n",
        " [172, u'Western Sahara', 538811],\n",
        " [173, u'Cabo Verde', 531046],\n",
        " [174, u'Luxembourg', 514862],\n",
        " [175, u'Brunei', 415717],\n",
        " [176, u'Malta', 411277],\n",
        " [177, u'Maldives', 393988],\n",
        " [178, u'Belize', 334297],\n",
        " [179, u'Bahamas, The', 319031],\n",
        " [180, u'Iceland', 315281],\n",
        " [181, u'Barbados', 288725],\n",
        " [182, u'French Polynesia', 277293],\n",
        " [183, u'New Caledonia', 264022],\n",
        " [184, u'Vanuatu', 261565],\n",
        " [185, u'Samoa', 195476],\n",
        " [186, u'Sao Tome and Principe', 186817],\n",
        " [187, u'Saint Lucia', 162781],\n",
        " [188, u'Guam', 160378],\n",
        " [189, u'Curacao', 146836],\n",
        " [190, u'Grenada', 109590],\n",
        " [191, u'Aruba', 109153],\n",
        " [192, u'Tonga', 106322],\n",
        " [193, u'Micronesia, Federated States of', 106104],\n",
        " [194, u'Virgin Islands', 104737],\n",
        " [195, u'Kiribati', 103248],\n",
        " [196, u'Saint Vincent and the Grenadines', 103220],\n",
        " [197, u'Jersey', 95732],\n",
        " [198, u'Seychelles', 90846],\n",
        " [199, u'Antigua and Barbuda', 90156],\n",
        " [200, u'Isle of Man', 86159],\n",
        " [201, u'Andorra', 85293],\n",
        " [202, u'Dominica', 73286],\n",
        " [203, u'Marshall Islands', 69747],\n",
        " [204, u'Bermuda', 69467],\n",
        " [205, u'Guernsey', 65605],\n",
        " [206, u'Greenland', 57714],\n",
        " [207, u'American Samoa', 54719],\n",
        " [208, u'Cayman Islands', 53737],\n",
        " [209, u'Northern Mariana Islands', 51170],\n",
        " [210, u'Saint Kitts and Nevis', 51134],\n",
        " [211, u'Faroe Islands', 49709],\n",
        " [212, u'Turks and Caicos Islands', 47754],\n",
        " [213, u'Sint Maarten', 39689],\n",
        " [214, u'Liechtenstein', 37009],\n",
        " [215, u'San Marino', 32448],\n",
        " [216, u'British Virgin Islands', 31912],\n",
        " [217, u'Saint Martin', 31264],\n",
        " [218, u'Monaco', 30500],\n",
        " [219, u'Gibraltar', 29111],\n",
        " [220, u'Palau', 21108],\n",
        " [221, u'Anguilla', 15754],\n",
        " [222, u'Dhekelia', 15700],\n",
        " [223, u'Akrotiri', 15700],\n",
        " [224, u'Wallis and Futuna', 15507],\n",
        " [225, u'Tuvalu', 10698],\n",
        " [226, u'Cook Islands', 10447],\n",
        " [227, u'Nauru', 9434],\n",
        " [228, u'Saint Helena, Ascension, and Tristan da Cunha', 7754],\n",
        " [229, u'Saint Barthelemy', 7298],\n",
        " [230, u'Saint Pierre and Miquelon', 5774],\n",
        " [231, u'Montserrat', 5189],\n",
        " [232, u'Falkland Islands (Islas Malvinas)', 3140],\n",
        " [233, u'Norfolk Island', 2196],\n",
        " [234, u'Svalbard', 1921],\n",
        " [235, u'Christmas Island', 1513],\n",
        " [236, u'Tokelau', 1353],\n",
        " [237, u'Niue', 1229],\n",
        " [238, u'Holy See (Vatican City)', 839],\n",
        " [239, u'Cocos (Keeling) Islands', 596],\n",
        " [240, u'Pitcairn Islands', 65]]"
       ]
      }
     ],
     "prompt_number": 3
    },
    {
     "cell_type": "markdown",
     "metadata": {},
     "source": [
      "Requests.get()returns an object"
     ]
    },
    {
     "cell_type": "code",
     "collapsed": false,
     "input": [
      "requests.get(wiki_json_url)"
     ],
     "language": "python",
     "metadata": {},
     "outputs": [
      {
       "metadata": {},
       "output_type": "pyout",
       "prompt_number": 4,
       "text": [
        "<Response [200]>"
       ]
      }
     ],
     "prompt_number": 4
    },
    {
     "cell_type": "code",
     "collapsed": false,
     "input": [
      "pop_name = set([r[1] for r in pop_list])\n",
      "len(pop_name)\n"
     ],
     "language": "python",
     "metadata": {},
     "outputs": [
      {
       "metadata": {},
       "output_type": "pyout",
       "prompt_number": 16,
       "text": [
        "233"
       ]
      }
     ],
     "prompt_number": 16
    },
    {
     "cell_type": "code",
     "collapsed": false,
     "input": [
      "wiki_name = set([r[1] for r in wiki_list])\n",
      "len(wiki_name)"
     ],
     "language": "python",
     "metadata": {},
     "outputs": [
      {
       "metadata": {},
       "output_type": "pyout",
       "prompt_number": 17,
       "text": [
        "240"
       ]
      }
     ],
     "prompt_number": 17
    },
    {
     "cell_type": "markdown",
     "metadata": {},
     "source": [
      "compare the country in both list"
     ]
    },
    {
     "cell_type": "code",
     "collapsed": false,
     "input": [
      "len(wiki_name & pop_name)"
     ],
     "language": "python",
     "metadata": {},
     "outputs": [
      {
       "metadata": {},
       "output_type": "pyout",
       "prompt_number": 15,
       "text": [
        "212"
       ]
      }
     ],
     "prompt_number": 15
    },
    {
     "cell_type": "heading",
     "level": 1,
     "metadata": {},
     "source": [
      "CHALLENGE EXERCISE"
     ]
    },
    {
     "cell_type": "markdown",
     "metadata": {},
     "source": [
      "Now for something more interesting. I'd like for us to get a feel of what it'd be like to pick a person completely at random from the world's population.  Say, if you were picking 5 people -- where might these people be from?  Of course, you won't be surprised to pick someone from China or India since those countries are so populous.  But how likely will it be for someone from the USA to show up?\n",
      "\n",
      "To the end of answering this question, start thinking about writing a Python generator that will return the name of a country in which the probability of that country being returned is the proportion of the world's population represented by that country.   \n",
      "\n",
      "Work with your neighbors -- we'll come back to this problem in detail in class on Thursday."
     ]
    },
    {
     "cell_type": "markdown",
     "metadata": {},
     "source": [
      "                                                                                                                                                                                                                                                                  "
     ]
    },
    {
     "cell_type": "code",
     "collapsed": false,
     "input": [
      "country[2]/ for country in wiki_list:\n",
      "    "
     ],
     "language": "python",
     "metadata": {},
     "outputs": []
    }
   ],
   "metadata": {}
  }
 ]
}